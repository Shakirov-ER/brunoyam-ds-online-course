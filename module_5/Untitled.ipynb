{
 "cells": [
  {
   "cell_type": "markdown",
   "id": "651bfecc",
   "metadata": {},
   "source": [
    "# NumPy"
   ]
  },
  {
   "cell_type": "markdown",
   "id": "4a9f1d72",
   "metadata": {},
   "source": [
    "Представим, что нам необходимо посчитать насколько точно наша модель определила температуру воздуха на неделю вперед"
   ]
  },
  {
   "cell_type": "markdown",
   "id": "7174e3dc",
   "metadata": {},
   "source": [
    "В переменной <code>predictions</code> запишем прогнозы модели, а в переменную <code>true_values</code> запишем истинные значения температуры воздуха "
   ]
  },
  {
   "cell_type": "code",
   "execution_count": 1,
   "id": "04b36ae4",
   "metadata": {},
   "outputs": [],
   "source": [
    "prediction  = [14, 13, 14, 20, 15, 17, 28]\n",
    "true_values = [17, 16, 11, 24, 23, 19, 31]"
   ]
  },
  {
   "cell_type": "markdown",
   "id": "495c346a",
   "metadata": {},
   "source": [
    "Средняя ошибка модели в процентах считается по этой формуле:\n",
    "\n",
    "$$\\text{MAPE} = \\frac{1}{n}\\sum^n_{i=1}\\frac{|pred - true|}{true} * 100\\%$$"
   ]
  },
  {
   "cell_type": "markdown",
   "id": "794b0ec5",
   "metadata": {},
   "source": [
    "Напишем функцию для расчета MAPE без использования библиотеки NumPy"
   ]
  },
  {
   "cell_type": "code",
   "execution_count": null,
   "id": "1f065a38",
   "metadata": {},
   "outputs": [],
   "source": []
  },
  {
   "cell_type": "markdown",
   "id": "2099e3b7",
   "metadata": {},
   "source": [
    "А теперь напишем функцию для расчета MAPE c использованием NumPy"
   ]
  },
  {
   "cell_type": "code",
   "execution_count": 12,
   "id": "fd36e960",
   "metadata": {},
   "outputs": [],
   "source": [
    "import numpy as np"
   ]
  },
  {
   "cell_type": "code",
   "execution_count": null,
   "id": "3f1ea7bc",
   "metadata": {},
   "outputs": [],
   "source": []
  },
  {
   "cell_type": "markdown",
   "id": "1ba7a632",
   "metadata": {},
   "source": [
    "### Задача\n",
    "\n",
    "Вывести матрицу NxN, состоящую из нулей и единиц в шахматном порядке. "
   ]
  },
  {
   "cell_type": "code",
   "execution_count": null,
   "id": "7bc1f1b5",
   "metadata": {},
   "outputs": [],
   "source": []
  },
  {
   "cell_type": "markdown",
   "id": "4d8eff26",
   "metadata": {},
   "source": [
    "### Задача \n",
    "\n",
    "Сгенерировать случайную матрицу NxN и посчитать сумму положительных элементов"
   ]
  },
  {
   "cell_type": "code",
   "execution_count": null,
   "id": "d37457ae",
   "metadata": {},
   "outputs": [],
   "source": []
  },
  {
   "cell_type": "markdown",
   "id": "474c07d4",
   "metadata": {},
   "source": [
    "### Задача - Решение СЛАУ\n",
    "\n",
    "$Ax = b$"
   ]
  },
  {
   "cell_type": "code",
   "execution_count": 2,
   "id": "d8cf9bce",
   "metadata": {},
   "outputs": [
    {
     "ename": "NameError",
     "evalue": "name 'np' is not defined",
     "output_type": "error",
     "traceback": [
      "\u001b[1;31m---------------------------------------------------------------------------\u001b[0m",
      "\u001b[1;31mNameError\u001b[0m                                 Traceback (most recent call last)",
      "\u001b[1;32mC:\\Users\\C336~1\\AppData\\Local\\Temp/ipykernel_8580/963052095.py\u001b[0m in \u001b[0;36m<module>\u001b[1;34m\u001b[0m\n\u001b[1;32m----> 1\u001b[1;33m A = np.array([\n\u001b[0m\u001b[0;32m      2\u001b[0m     \u001b[1;33m[\u001b[0m\u001b[1;36m3\u001b[0m\u001b[1;33m,\u001b[0m \u001b[1;33m-\u001b[0m\u001b[1;36m2\u001b[0m\u001b[1;33m]\u001b[0m\u001b[1;33m,\u001b[0m\u001b[1;33m\u001b[0m\u001b[1;33m\u001b[0m\u001b[0m\n\u001b[0;32m      3\u001b[0m     [5, 1]]\n\u001b[0;32m      4\u001b[0m )\n\u001b[0;32m      5\u001b[0m \u001b[0mb\u001b[0m \u001b[1;33m=\u001b[0m \u001b[0mnp\u001b[0m\u001b[1;33m.\u001b[0m\u001b[0marray\u001b[0m\u001b[1;33m(\u001b[0m\u001b[1;33m[\u001b[0m\u001b[1;33m-\u001b[0m\u001b[1;36m6\u001b[0m\u001b[1;33m,\u001b[0m \u001b[1;36m3\u001b[0m\u001b[1;33m]\u001b[0m\u001b[1;33m)\u001b[0m\u001b[1;33m\u001b[0m\u001b[1;33m\u001b[0m\u001b[0m\n",
      "\u001b[1;31mNameError\u001b[0m: name 'np' is not defined"
     ]
    }
   ],
   "source": [
    "A = np.array([\n",
    "    [3, -2],\n",
    "    [5, 1]]\n",
    ")\n",
    "b = np.array([-6, 3])\n",
    "# Решение - [0, 3]"
   ]
  },
  {
   "cell_type": "markdown",
   "id": "40cede03",
   "metadata": {},
   "source": [
    "# Pandas"
   ]
  },
  {
   "cell_type": "markdown",
   "id": "fc3e841d",
   "metadata": {},
   "source": [
    "### Почему не стоит использовать .apply()"
   ]
  },
  {
   "cell_type": "code",
   "execution_count": 48,
   "id": "84ebdcf1",
   "metadata": {},
   "outputs": [],
   "source": [
    "import pandas as pd\n",
    "import numpy as np\n",
    "\n",
    "df_len = 1000\n",
    "\n",
    "test_df = pd.DataFrame(\n",
    "    {\n",
    "        \"cat_column\": np.random.choice([\"a\", \"b\", \"c\"], size=df_len),\n",
    "        \"float_col1\": np.random.random(size=df_len),\n",
    "        \"float_col2\": np.random.random(size=df_len),\n",
    "    }\n",
    ")"
   ]
  },
  {
   "cell_type": "code",
   "execution_count": 49,
   "id": "4dc30966",
   "metadata": {},
   "outputs": [],
   "source": [
    "def trig_transform(x):\n",
    "    return np.log(np.cos(x) + 5)"
   ]
  },
  {
   "cell_type": "code",
   "execution_count": 50,
   "id": "8d424e18",
   "metadata": {},
   "outputs": [
    {
     "data": {
      "text/plain": [
       "0      1.745593\n",
       "1      1.789860\n",
       "2      1.786290\n",
       "3      1.748633\n",
       "4      1.738317\n",
       "         ...   \n",
       "995    1.786602\n",
       "996    1.740288\n",
       "997    1.715954\n",
       "998    1.741543\n",
       "999    1.780773\n",
       "Name: float_col1, Length: 1000, dtype: float64"
      ]
     },
     "execution_count": 50,
     "metadata": {},
     "output_type": "execute_result"
    }
   ],
   "source": [
    "test_df[\"float_col1\"].apply(trig_transform)"
   ]
  },
  {
   "cell_type": "code",
   "execution_count": 51,
   "id": "762f130e",
   "metadata": {},
   "outputs": [
    {
     "data": {
      "text/plain": [
       "0      1.745593\n",
       "1      1.789860\n",
       "2      1.786290\n",
       "3      1.748633\n",
       "4      1.738317\n",
       "         ...   \n",
       "995    1.786602\n",
       "996    1.740288\n",
       "997    1.715954\n",
       "998    1.741543\n",
       "999    1.780773\n",
       "Name: float_col1, Length: 1000, dtype: float64"
      ]
     },
     "execution_count": 51,
     "metadata": {},
     "output_type": "execute_result"
    }
   ],
   "source": [
    "trig_transform(test_df[\"float_col1\"])"
   ]
  },
  {
   "cell_type": "code",
   "execution_count": 52,
   "id": "0ad14fdc",
   "metadata": {},
   "outputs": [
    {
     "name": "stdout",
     "output_type": "stream",
     "text": [
      "2.54 ms ± 14.7 µs per loop (mean ± std. dev. of 7 runs, 100 loops each)\n",
      "170 µs ± 239 ns per loop (mean ± std. dev. of 7 runs, 10000 loops each)\n"
     ]
    }
   ],
   "source": [
    "%timeit test_df[\"float_col1\"].apply(trig_transform)\n",
    "%timeit trig_transform(test_df[\"float_col1\"])"
   ]
  },
  {
   "cell_type": "markdown",
   "id": "7fecc058",
   "metadata": {},
   "source": [
    "### Задача\n",
    "\n",
    "Посчитать сумму двух столбцов и записать в третий при помощи метода apply и просто арифметическими действиями. Сравнить время выполнения."
   ]
  },
  {
   "cell_type": "code",
   "execution_count": null,
   "id": "d249b15e",
   "metadata": {},
   "outputs": [],
   "source": []
  },
  {
   "cell_type": "markdown",
   "id": "9e155372",
   "metadata": {},
   "source": [
    "### Задача\n",
    "Найти в датафрейме ближайшее число к заданному"
   ]
  },
  {
   "cell_type": "code",
   "execution_count": null,
   "id": "2354bd10",
   "metadata": {},
   "outputs": [],
   "source": []
  },
  {
   "cell_type": "markdown",
   "id": "56ea1e43",
   "metadata": {},
   "source": [
    "## Работаем с данными\n",
    "\n",
    "Мы можем прочитать таблицу из разных форматов: Excel, CSV, TSV, HDF и т.д.\n",
    "\n",
    "Начнем с самого простого формата - CSV. Можно открыть в блокноте файл `data/weather.csv` и посмотреть как он выглядит.\n",
    "\n",
    "Чтобы загрузить файл в DataFrame, воспользуемся методом `pd.read_csv()`"
   ]
  },
  {
   "cell_type": "code",
   "execution_count": 53,
   "id": "1a62c8a8",
   "metadata": {},
   "outputs": [
    {
     "data": {
      "text/html": [
       "<div>\n",
       "<style scoped>\n",
       "    .dataframe tbody tr th:only-of-type {\n",
       "        vertical-align: middle;\n",
       "    }\n",
       "\n",
       "    .dataframe tbody tr th {\n",
       "        vertical-align: top;\n",
       "    }\n",
       "\n",
       "    .dataframe thead th {\n",
       "        text-align: right;\n",
       "    }\n",
       "</style>\n",
       "<table border=\"1\" class=\"dataframe\">\n",
       "  <thead>\n",
       "    <tr style=\"text-align: right;\">\n",
       "      <th></th>\n",
       "      <th>Day</th>\n",
       "      <th>t</th>\n",
       "    </tr>\n",
       "  </thead>\n",
       "  <tbody>\n",
       "    <tr>\n",
       "      <th>0</th>\n",
       "      <td>2008-01-01</td>\n",
       "      <td>0</td>\n",
       "    </tr>\n",
       "    <tr>\n",
       "      <th>1</th>\n",
       "      <td>2008-01-02</td>\n",
       "      <td>-5</td>\n",
       "    </tr>\n",
       "    <tr>\n",
       "      <th>2</th>\n",
       "      <td>2008-01-03</td>\n",
       "      <td>-11</td>\n",
       "    </tr>\n",
       "    <tr>\n",
       "      <th>3</th>\n",
       "      <td>2008-01-04</td>\n",
       "      <td>-11</td>\n",
       "    </tr>\n",
       "    <tr>\n",
       "      <th>4</th>\n",
       "      <td>2008-01-05</td>\n",
       "      <td>-12</td>\n",
       "    </tr>\n",
       "  </tbody>\n",
       "</table>\n",
       "</div>"
      ],
      "text/plain": [
       "          Day   t\n",
       "0  2008-01-01   0\n",
       "1  2008-01-02  -5\n",
       "2  2008-01-03 -11\n",
       "3  2008-01-04 -11\n",
       "4  2008-01-05 -12"
      ]
     },
     "execution_count": 53,
     "metadata": {},
     "output_type": "execute_result"
    }
   ],
   "source": [
    "df = pd.read_csv('weather.csv')\n",
    "df.head()"
   ]
  },
  {
   "cell_type": "code",
   "execution_count": 54,
   "id": "9a9b77ba",
   "metadata": {},
   "outputs": [
    {
     "data": {
      "text/html": [
       "<div>\n",
       "<style scoped>\n",
       "    .dataframe tbody tr th:only-of-type {\n",
       "        vertical-align: middle;\n",
       "    }\n",
       "\n",
       "    .dataframe tbody tr th {\n",
       "        vertical-align: top;\n",
       "    }\n",
       "\n",
       "    .dataframe thead th {\n",
       "        text-align: right;\n",
       "    }\n",
       "</style>\n",
       "<table border=\"1\" class=\"dataframe\">\n",
       "  <thead>\n",
       "    <tr style=\"text-align: right;\">\n",
       "      <th></th>\n",
       "      <th>t</th>\n",
       "    </tr>\n",
       "  </thead>\n",
       "  <tbody>\n",
       "    <tr>\n",
       "      <th>count</th>\n",
       "      <td>3285.000000</td>\n",
       "    </tr>\n",
       "    <tr>\n",
       "      <th>mean</th>\n",
       "      <td>8.137595</td>\n",
       "    </tr>\n",
       "    <tr>\n",
       "      <th>std</th>\n",
       "      <td>10.403138</td>\n",
       "    </tr>\n",
       "    <tr>\n",
       "      <th>min</th>\n",
       "      <td>-23.000000</td>\n",
       "    </tr>\n",
       "    <tr>\n",
       "      <th>25%</th>\n",
       "      <td>1.000000</td>\n",
       "    </tr>\n",
       "    <tr>\n",
       "      <th>50%</th>\n",
       "      <td>8.000000</td>\n",
       "    </tr>\n",
       "    <tr>\n",
       "      <th>75%</th>\n",
       "      <td>17.000000</td>\n",
       "    </tr>\n",
       "    <tr>\n",
       "      <th>max</th>\n",
       "      <td>34.000000</td>\n",
       "    </tr>\n",
       "  </tbody>\n",
       "</table>\n",
       "</div>"
      ],
      "text/plain": [
       "                 t\n",
       "count  3285.000000\n",
       "mean      8.137595\n",
       "std      10.403138\n",
       "min     -23.000000\n",
       "25%       1.000000\n",
       "50%       8.000000\n",
       "75%      17.000000\n",
       "max      34.000000"
      ]
     },
     "execution_count": 54,
     "metadata": {},
     "output_type": "execute_result"
    }
   ],
   "source": [
    "df.describe()"
   ]
  },
  {
   "cell_type": "code",
   "execution_count": 55,
   "id": "6315c19c",
   "metadata": {},
   "outputs": [
    {
     "data": {
      "text/html": [
       "<div>\n",
       "<style scoped>\n",
       "    .dataframe tbody tr th:only-of-type {\n",
       "        vertical-align: middle;\n",
       "    }\n",
       "\n",
       "    .dataframe tbody tr th {\n",
       "        vertical-align: top;\n",
       "    }\n",
       "\n",
       "    .dataframe thead th {\n",
       "        text-align: right;\n",
       "    }\n",
       "</style>\n",
       "<table border=\"1\" class=\"dataframe\">\n",
       "  <thead>\n",
       "    <tr style=\"text-align: right;\">\n",
       "      <th></th>\n",
       "      <th>Day</th>\n",
       "      <th>t</th>\n",
       "      <th>year</th>\n",
       "      <th>month</th>\n",
       "      <th>day</th>\n",
       "    </tr>\n",
       "  </thead>\n",
       "  <tbody>\n",
       "    <tr>\n",
       "      <th>0</th>\n",
       "      <td>2008-01-01</td>\n",
       "      <td>0</td>\n",
       "      <td>2008</td>\n",
       "      <td>1</td>\n",
       "      <td>1</td>\n",
       "    </tr>\n",
       "    <tr>\n",
       "      <th>1</th>\n",
       "      <td>2008-01-02</td>\n",
       "      <td>-5</td>\n",
       "      <td>2008</td>\n",
       "      <td>1</td>\n",
       "      <td>2</td>\n",
       "    </tr>\n",
       "    <tr>\n",
       "      <th>2</th>\n",
       "      <td>2008-01-03</td>\n",
       "      <td>-11</td>\n",
       "      <td>2008</td>\n",
       "      <td>1</td>\n",
       "      <td>3</td>\n",
       "    </tr>\n",
       "    <tr>\n",
       "      <th>3</th>\n",
       "      <td>2008-01-04</td>\n",
       "      <td>-11</td>\n",
       "      <td>2008</td>\n",
       "      <td>1</td>\n",
       "      <td>4</td>\n",
       "    </tr>\n",
       "    <tr>\n",
       "      <th>4</th>\n",
       "      <td>2008-01-05</td>\n",
       "      <td>-12</td>\n",
       "      <td>2008</td>\n",
       "      <td>1</td>\n",
       "      <td>5</td>\n",
       "    </tr>\n",
       "  </tbody>\n",
       "</table>\n",
       "</div>"
      ],
      "text/plain": [
       "         Day   t  year  month  day\n",
       "0 2008-01-01   0  2008      1    1\n",
       "1 2008-01-02  -5  2008      1    2\n",
       "2 2008-01-03 -11  2008      1    3\n",
       "3 2008-01-04 -11  2008      1    4\n",
       "4 2008-01-05 -12  2008      1    5"
      ]
     },
     "execution_count": 55,
     "metadata": {},
     "output_type": "execute_result"
    }
   ],
   "source": [
    "df[\"Day\"] = pd.to_datetime(df[\"Day\"])\n",
    "df[\"year\"] = df.Day.dt.year\n",
    "df[\"month\"] = df.Day.dt.month\n",
    "df[\"day\"] = df.Day.dt.day\n",
    "df.head()"
   ]
  },
  {
   "cell_type": "markdown",
   "id": "f78b644a",
   "metadata": {},
   "source": [
    "## Задача\n",
    "\n",
    "Вывести среднюю температуру за январь 2010 года"
   ]
  },
  {
   "cell_type": "code",
   "execution_count": null,
   "id": "3defc04a",
   "metadata": {},
   "outputs": [],
   "source": []
  },
  {
   "cell_type": "markdown",
   "id": "77f3f82e",
   "metadata": {},
   "source": [
    "### Задача\n",
    "\n",
    "Посчитать среднюю температуру для каждого месяца"
   ]
  },
  {
   "cell_type": "code",
   "execution_count": null,
   "id": "2d5b2867",
   "metadata": {},
   "outputs": [],
   "source": []
  },
  {
   "cell_type": "markdown",
   "id": "be670ebb",
   "metadata": {},
   "source": [
    "## Задача\n",
    "\n",
    "Найти насколько отличалась температура в самый жаркий и самый холодный день"
   ]
  },
  {
   "cell_type": "code",
   "execution_count": null,
   "id": "7ee5ac66",
   "metadata": {},
   "outputs": [],
   "source": []
  },
  {
   "cell_type": "markdown",
   "id": "956d85d4",
   "metadata": {},
   "source": [
    "### Задача\n",
    "Вывести среднее, максимальное, минимальное, стандартное отклонение и медиану температуры за каждый год"
   ]
  },
  {
   "cell_type": "code",
   "execution_count": null,
   "id": "965dfb78",
   "metadata": {},
   "outputs": [],
   "source": []
  },
  {
   "cell_type": "markdown",
   "id": "95a2ac26",
   "metadata": {},
   "source": [
    "### Задача\n",
    "Необходимо узнать насколько медиана отличалась от среднего в каждом месяце."
   ]
  },
  {
   "cell_type": "code",
   "execution_count": null,
   "id": "6fa30b4a",
   "metadata": {},
   "outputs": [],
   "source": []
  },
  {
   "cell_type": "markdown",
   "id": "286149e7",
   "metadata": {},
   "source": [
    "# Matplotlib"
   ]
  },
  {
   "cell_type": "markdown",
   "id": "5790d44d",
   "metadata": {},
   "source": [
    "## Задание - нарисовать $n$ линий\n",
    "\n",
    "Написать функцию, которая на вход принимает параметр $n$ и рисует $n$ графиков по такому приципу:\n",
    "\n",
    "$$y = x$$\n",
    "$$y = 2x$$\n",
    "$$y = 3x$$\n",
    "$$...$$\n",
    "$$y = nx$$"
   ]
  },
  {
   "cell_type": "code",
   "execution_count": null,
   "id": "6ed85645",
   "metadata": {},
   "outputs": [],
   "source": []
  },
  {
   "cell_type": "markdown",
   "id": "18eeef07",
   "metadata": {},
   "source": [
    "## Задача\n",
    "\n",
    "По заданным точкам нарисовать квадрат."
   ]
  },
  {
   "cell_type": "code",
   "execution_count": null,
   "id": "622a0d77",
   "metadata": {},
   "outputs": [],
   "source": []
  },
  {
   "cell_type": "markdown",
   "id": "cd6aa793",
   "metadata": {},
   "source": [
    "# Seaborn"
   ]
  },
  {
   "cell_type": "markdown",
   "id": "a2753303",
   "metadata": {},
   "source": [
    "## Задача\n",
    "Воспользоваться набором данных tips\n",
    "\n",
    "1. Создать новую колонку - отношение чаевых ко всему счету\n",
    "2. Построить гистограмму распределения новой колонки\n",
    "3. Посмотреть меняется ли процент чаевых в зависимости от времени дня (колонка time, параметр hue)\n",
    "4. Посмотреть на bar plot колличество чаевых в зависимости от дня недели"
   ]
  },
  {
   "cell_type": "code",
   "execution_count": null,
   "id": "c8330ce3",
   "metadata": {},
   "outputs": [],
   "source": []
  }
 ],
 "metadata": {
  "kernelspec": {
   "display_name": "Python 3 (ipykernel)",
   "language": "python",
   "name": "python3"
  },
  "language_info": {
   "codemirror_mode": {
    "name": "ipython",
    "version": 3
   },
   "file_extension": ".py",
   "mimetype": "text/x-python",
   "name": "python",
   "nbconvert_exporter": "python",
   "pygments_lexer": "ipython3",
   "version": "3.9.7"
  }
 },
 "nbformat": 4,
 "nbformat_minor": 5
}
